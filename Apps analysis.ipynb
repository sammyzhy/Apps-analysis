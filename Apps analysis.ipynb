{
 "cells": [
  {
   "cell_type": "markdown",
   "metadata": {},
   "source": [
    "# Analysis of mobile apps on Google Play and the App Store\n",
    "\n",
    "For this project, I'll pretend I am working as data analysts for a company that builds Android and iOS mobile apps. We make our apps available on Google Play and the App Store. We will analyze the data of currents mobile apps. Our goal for this project is to analyze data to help our developers understand what type of apps are likely to attract more users."
   ]
  },
  {
   "cell_type": "markdown",
   "metadata": {},
   "source": [
    "# Opening and exploring data\n",
    "\n",
    "As of September 2018, there were approximately 2 million iOS apps available on the App Store, and 2.1 million Android apps on Google Play. Collecting data for over 4 million apps requires a significant amount of time and money, so I'll try to analyze a sample of the data instead. To avoid spending resources on collecting new data ourselves, I first try to see if I can find any relevant existing data at no cost. Luckily, these are two data sets that seem suitable for our goals: AppleStore.csv and googleplaystore.csv. I'll start by opening and exploring these two data sets."
   ]
  },
  {
   "cell_type": "code",
   "execution_count": 1,
   "metadata": {
    "collapsed": false,
    "scrolled": true
   },
   "outputs": [
    {
     "name": "stdout",
     "output_type": "stream",
     "text": [
      "['284882215', 'Facebook', '389879808', 'USD', '0.0', '2974676', '212', '3.5', '3.5', '95.0', '4+', 'Social Networking', '37', '1', '29', '1']\n",
      "\n",
      "\n",
      "['389801252', 'Instagram', '113954816', 'USD', '0.0', '2161558', '1289', '4.5', '4.0', '10.23', '12+', 'Photo & Video', '37', '0', '29', '1']\n",
      "\n",
      "\n",
      "['529479190', 'Clash of Clans', '116476928', 'USD', '0.0', '2130805', '579', '4.5', '4.5', '9.24.12', '9+', 'Games', '38', '5', '18', '1']\n",
      "\n",
      "\n",
      "['420009108', 'Temple Run', '65921024', 'USD', '0.0', '1724546', '3842', '4.5', '4.0', '1.6.2', '9+', 'Games', '40', '5', '1', '1']\n",
      "\n",
      "\n",
      "Number of rows: 7198\n",
      "Number of columns: 16\n",
      "['Photo Editor & Candy Camera & Grid & ScrapBook', 'ART_AND_DESIGN', '4.1', '159', '19M', '10,000+', 'Free', '0', 'Everyone', 'Art & Design', 'January 7, 2018', '1.0.0', '4.0.3 and up']\n",
      "\n",
      "\n",
      "['Coloring book moana', 'ART_AND_DESIGN', '3.9', '967', '14M', '500,000+', 'Free', '0', 'Everyone', 'Art & Design;Pretend Play', 'January 15, 2018', '2.0.0', '4.0.3 and up']\n",
      "\n",
      "\n",
      "['U Launcher Lite – FREE Live Cool Themes, Hide Apps', 'ART_AND_DESIGN', '4.7', '87510', '8.7M', '5,000,000+', 'Free', '0', 'Everyone', 'Art & Design', 'August 1, 2018', '1.2.4', '4.0.3 and up']\n",
      "\n",
      "\n",
      "['Sketch - Draw & Paint', 'ART_AND_DESIGN', '4.5', '215644', '25M', '50,000,000+', 'Free', '0', 'Teen', 'Art & Design', 'June 8, 2018', 'Varies with device', '4.2 and up']\n",
      "\n",
      "\n",
      "Number of rows: 10842\n",
      "Number of columns: 13\n",
      "['id', 'track_name', 'size_bytes', 'currency', 'price', 'rating_count_tot', 'rating_count_ver', 'user_rating', 'user_rating_ver', 'ver', 'cont_rating', 'prime_genre', 'sup_devices.num', 'ipadSc_urls.num', 'lang.num', 'vpp_lic']\n",
      "\n",
      "\n",
      "['App', 'Category', 'Rating', 'Reviews', 'Size', 'Installs', 'Type', 'Price', 'Content Rating', 'Genres', 'Last Updated', 'Current Ver', 'Android Ver']\n"
     ]
    }
   ],
   "source": [
    "opened_file_as = open('AppleStore.csv')\n",
    "opened_file_gp = open('googleplaystore.csv')\n",
    "from csv import reader\n",
    "read_file_as = reader(opened_file_as)\n",
    "read_file_gp = reader(opened_file_gp)\n",
    "as_dataset = list(read_file_as)\n",
    "gp_dataset = list(read_file_gp)\n",
    "\n",
    "### We write a function to explore the two data sets. ###\n",
    "def explore_data(dataset, start, end, rows_and_columns=False):\n",
    "    dataset_slice = dataset[start:end]    \n",
    "    for row in dataset_slice:\n",
    "        print(row)\n",
    "        print('\\n') # adds a new (empty) line after each row\n",
    "\n",
    "    if rows_and_columns:\n",
    "        print('Number of rows:', len(dataset))\n",
    "        print('Number of columns:', len(dataset[0]))\n",
    "        \n",
    "explore_data(as_dataset, 1, 5, rows_and_columns = True)\n",
    "explore_data(gp_dataset, 1, 5, rows_and_columns = True)\n",
    "print(as_dataset[0])\n",
    "print('\\n')\n",
    "print(gp_dataset[0])"
   ]
  },
  {
   "cell_type": "markdown",
   "metadata": {},
   "source": [
    "# Deleting wrong data\n",
    "\n",
    "The Google Play data set has a dedicated discussion section, and we can see\n",
    "that one of the discussions describes an error for the row 10473. Now let's print row 10473 to check detail information."
   ]
  },
  {
   "cell_type": "code",
   "execution_count": 2,
   "metadata": {
    "collapsed": false
   },
   "outputs": [
    {
     "name": "stdout",
     "output_type": "stream",
     "text": [
      "['Life Made WI-Fi Touchscreen Photo Frame', '1.9', '19', '3.0M', '1,000+', 'Free', '0', 'Everyone', '', 'February 11, 2018', '1.0.19', '4.0 and up']\n"
     ]
    }
   ],
   "source": [
    "print(gp_dataset[10473])"
   ]
  },
  {
   "cell_type": "markdown",
   "metadata": {},
   "source": [
    "Rating for app 'Life Made WI-Fi Touchscreen Photo Frame' is 19. But for Google Play app, the value of rating is no more than 5. So I need to delete this row."
   ]
  },
  {
   "cell_type": "code",
   "execution_count": 3,
   "metadata": {
    "collapsed": true
   },
   "outputs": [],
   "source": [
    "del gp_dataset[10473]"
   ]
  },
  {
   "cell_type": "markdown",
   "metadata": {},
   "source": [
    "# Removing duplicate entries\n",
    "If we explore the Google Play data set long enough or look at the discussion section, we'll notice some apps have duplicate entries. For instance, let's check the number of entries for 'Instagram'."
   ]
  },
  {
   "cell_type": "code",
   "execution_count": 4,
   "metadata": {
    "collapsed": false
   },
   "outputs": [
    {
     "name": "stdout",
     "output_type": "stream",
     "text": [
      "['Instagram', 'SOCIAL', '4.5', '66577313', 'Varies with device', '1,000,000,000+', 'Free', '0', 'Teen', 'Social', 'July 31, 2018', 'Varies with device', 'Varies with device']\n",
      "['Instagram', 'SOCIAL', '4.5', '66577446', 'Varies with device', '1,000,000,000+', 'Free', '0', 'Teen', 'Social', 'July 31, 2018', 'Varies with device', 'Varies with device']\n",
      "['Instagram', 'SOCIAL', '4.5', '66577313', 'Varies with device', '1,000,000,000+', 'Free', '0', 'Teen', 'Social', 'July 31, 2018', 'Varies with device', 'Varies with device']\n",
      "['Instagram', 'SOCIAL', '4.5', '66509917', 'Varies with device', '1,000,000,000+', 'Free', '0', 'Teen', 'Social', 'July 31, 2018', 'Varies with device', 'Varies with device']\n"
     ]
    }
   ],
   "source": [
    "for row in gp_dataset:\n",
    "    name = row[0]\n",
    "    if name == 'Instagram':\n",
    "        print(row)"
   ]
  },
  {
   "cell_type": "markdown",
   "metadata": {},
   "source": [
    "Let's count the number of duplicates in Google Play dataset."
   ]
  },
  {
   "cell_type": "code",
   "execution_count": 5,
   "metadata": {
    "collapsed": false
   },
   "outputs": [
    {
     "name": "stdout",
     "output_type": "stream",
     "text": [
      "Number of duplicates:  1181\n"
     ]
    }
   ],
   "source": [
    "unique = []\n",
    "duplicates = []\n",
    "for row in gp_dataset:\n",
    "    name = row[0]\n",
    "    if name in unique:\n",
    "        duplicates.append(name)\n",
    "    else:\n",
    "        unique.append(name)\n",
    "print(\"Number of duplicates: \", len(duplicates))"
   ]
  },
  {
   "cell_type": "markdown",
   "metadata": {},
   "source": [
    "So there are 1181 duplicates in Google Play dataset. To clean up the data set, I need to remove the duplicates. \n",
    "Based on the row of 'Instagram', the main difference among the duplicates is the fourth column, which indicates the reviews. I will go with the entry with the most reviews. Because most reviews mean that it is the most popular one."
   ]
  },
  {
   "cell_type": "code",
   "execution_count": 6,
   "metadata": {
    "collapsed": false
   },
   "outputs": [
    {
     "name": "stdout",
     "output_type": "stream",
     "text": [
      "9659\n",
      "9660\n",
      "10841\n"
     ]
    }
   ],
   "source": [
    "### Create a frequency table of reviews of the apps in Google Play Store. ###\n",
    "reviews_max = {}\n",
    "for name in duplicates:\n",
    "    for row in gp_dataset:\n",
    "        if row[0] == name:\n",
    "            review = float(row[3])\n",
    "            if name not in reviews_max:\n",
    "                reviews_max[name] = review\n",
    "            elif name in reviews_max and review > reviews_max[name]:\n",
    "                reviews_max[name] = review\n",
    "### Clean the data according to the frequency table of review. ###\n",
    "app_added = [] \n",
    "gp_dataset_cleaned = []\n",
    "gp_dataset_cleaned.append(gp_dataset[0])\n",
    "for row in gp_dataset[1:]:\n",
    "    n_name = row[0]\n",
    "    n_review = float(row[3])\n",
    "    if n_name not in duplicates:\n",
    "        gp_dataset_cleaned.append(row)\n",
    "        app_added.append(n_name)\n",
    "    elif n_name not in app_added and n_review == reviews_max[n_name]:\n",
    "        gp_dataset_cleaned.append(row)\n",
    "        app_added.append(n_name)\n",
    "\n",
    "print(len(app_added))\n",
    "print(len(gp_dataset_cleaned))\n",
    "print(len(gp_dataset))\n",
    "                \n",
    "            "
   ]
  },
  {
   "cell_type": "markdown",
   "metadata": {},
   "source": [
    "Based on the above results there are 9659 (=10841 - 1 - 1181) unique apps in Google Play Store. This matches the previous result of duplicate apps."
   ]
  },
  {
   "cell_type": "markdown",
   "metadata": {},
   "source": [
    "# Removing non-English apps\n",
    "Now we will analyze the content of each app. Remember that we are only interested in English app. So we need to find those non-English app. Next, we will write a function to check any character in the string that doesn't belong to the set of common English characters."
   ]
  },
  {
   "cell_type": "code",
   "execution_count": 7,
   "metadata": {
    "collapsed": true
   },
   "outputs": [],
   "source": [
    "def English_ornot(string):\n",
    "    for c in string:\n",
    "        if ord(c)>127:\n",
    "            return False\n",
    "    return True   \n",
    "    "
   ]
  },
  {
   "cell_type": "markdown",
   "metadata": {},
   "source": [
    "Let's test our function using some app names."
   ]
  },
  {
   "cell_type": "code",
   "execution_count": 8,
   "metadata": {
    "collapsed": false
   },
   "outputs": [
    {
     "data": {
      "text/plain": [
       "True"
      ]
     },
     "execution_count": 8,
     "metadata": {},
     "output_type": "execute_result"
    }
   ],
   "source": [
    "English_ornot('Instagram')"
   ]
  },
  {
   "cell_type": "code",
   "execution_count": 9,
   "metadata": {
    "collapsed": false
   },
   "outputs": [
    {
     "data": {
      "text/plain": [
       "False"
      ]
     },
     "execution_count": 9,
     "metadata": {},
     "output_type": "execute_result"
    }
   ],
   "source": [
    "English_ornot('爱奇艺PPS -《欢乐颂2》电视剧热播')"
   ]
  },
  {
   "cell_type": "code",
   "execution_count": 10,
   "metadata": {
    "collapsed": false
   },
   "outputs": [
    {
     "data": {
      "text/plain": [
       "False"
      ]
     },
     "execution_count": 10,
     "metadata": {},
     "output_type": "execute_result"
    }
   ],
   "source": [
    "English_ornot('Docs To Go™ Free Office Suite')"
   ]
  },
  {
   "cell_type": "code",
   "execution_count": 11,
   "metadata": {
    "collapsed": false
   },
   "outputs": [
    {
     "data": {
      "text/plain": [
       "False"
      ]
     },
     "execution_count": 11,
     "metadata": {},
     "output_type": "execute_result"
    }
   ],
   "source": [
    "English_ornot('Instachat 😜')"
   ]
  },
  {
   "cell_type": "markdown",
   "metadata": {},
   "source": [
    "From the examples above, we can see that we will lose some useful data with our current function. Let's edit the function we wrote before to filter out the non-English apps."
   ]
  },
  {
   "cell_type": "markdown",
   "metadata": {
    "collapsed": true
   },
   "source": [
    "We will change the previous function we created before. It the input string has more than three characters that fall outside the ASCII range (0-127), then the function should return False (identify the string as non-English), otherwise it should return True."
   ]
  },
  {
   "cell_type": "code",
   "execution_count": 12,
   "metadata": {
    "collapsed": true
   },
   "outputs": [],
   "source": [
    "# Rewrite the function to filter out non-English apps more precisely.###\n",
    "def English_ornot(string):\n",
    "    count = 0\n",
    "    for c in string:\n",
    "        if ord(c)>127:\n",
    "            count += 1\n",
    "            if count > 3:\n",
    "                return False\n",
    "    return True "
   ]
  },
  {
   "cell_type": "code",
   "execution_count": 13,
   "metadata": {
    "collapsed": false
   },
   "outputs": [
    {
     "data": {
      "text/plain": [
       "True"
      ]
     },
     "execution_count": 13,
     "metadata": {},
     "output_type": "execute_result"
    }
   ],
   "source": [
    "English_ornot('Docs To Go™ Free Office Suite')"
   ]
  },
  {
   "cell_type": "code",
   "execution_count": 14,
   "metadata": {
    "collapsed": false
   },
   "outputs": [
    {
     "data": {
      "text/plain": [
       "True"
      ]
     },
     "execution_count": 14,
     "metadata": {},
     "output_type": "execute_result"
    }
   ],
   "source": [
    "English_ornot('Instachat 😜')"
   ]
  },
  {
   "cell_type": "code",
   "execution_count": 15,
   "metadata": {
    "collapsed": false
   },
   "outputs": [
    {
     "data": {
      "text/plain": [
       "False"
      ]
     },
     "execution_count": 15,
     "metadata": {},
     "output_type": "execute_result"
    }
   ],
   "source": [
    "English_ornot('爱奇艺PPS -《欢乐颂2》电视剧热播')"
   ]
  },
  {
   "cell_type": "markdown",
   "metadata": {},
   "source": [
    "Use the new function to filter out non-English apps from both data sets. If an app name is identified as English, append the whole row to a separate list."
   ]
  },
  {
   "cell_type": "code",
   "execution_count": 16,
   "metadata": {
    "collapsed": false
   },
   "outputs": [
    {
     "name": "stdout",
     "output_type": "stream",
     "text": [
      "Number of English apps in Apple Store:  7198\n",
      "Number of English apps in Google Play Store:  9615\n"
     ]
    }
   ],
   "source": [
    "as_dataset_Eng = []\n",
    "gp_dataset_Eng = []\n",
    "### Filter out non-English apps from both datasets with the new function. ###\n",
    "for row in as_dataset:\n",
    "    name = row[0]\n",
    "    if English_ornot(name):\n",
    "        as_dataset_Eng.append(row)\n",
    "        \n",
    "for row in gp_dataset_cleaned:\n",
    "    name = row[0]\n",
    "    if English_ornot(name):\n",
    "        gp_dataset_Eng.append(row)\n",
    "        \n",
    "print('Number of English apps in Apple Store: ', len(as_dataset_Eng))\n",
    "print('Number of English apps in Google Play Store: ', len(gp_dataset_Eng))\n",
    "        "
   ]
  },
  {
   "cell_type": "markdown",
   "metadata": {},
   "source": [
    "# Isolating free apps\n",
    "\n",
    "As we mentioned in the introduction, we only build apps that are free to download and install, and our main source of revenue consists of in-app ads. Our data sets contain both free and non-free apps; we'll need to isolate only the free apps for our analysis."
   ]
  },
  {
   "cell_type": "code",
   "execution_count": 17,
   "metadata": {
    "collapsed": false
   },
   "outputs": [
    {
     "name": "stdout",
     "output_type": "stream",
     "text": [
      "Number of free English apps in Apple Store:  4057\n",
      "Number of free English apps in Google Play Store:  8865\n"
     ]
    }
   ],
   "source": [
    "free_Eng_AS_dataset = []\n",
    "free_Eng_AS_dataset.append(as_dataset_Eng[0])\n",
    "free_Eng_GP_dataset = []\n",
    "free_Eng_GP_dataset.append(gp_dataset_Eng[0])\n",
    "for row in as_dataset_Eng[1:]:\n",
    "    price = row[4]\n",
    "    if price == '0.0':\n",
    "        free_Eng_AS_dataset.append(row)\n",
    "        \n",
    "for row in gp_dataset_Eng[1:]:\n",
    "    price = row[7]\n",
    "    if price == '0':\n",
    "        free_Eng_GP_dataset.append(row)\n",
    "        \n",
    "print('Number of free English apps in Apple Store: ', len(free_Eng_AS_dataset))\n",
    "print('Number of free English apps in Google Play Store: ', len(free_Eng_GP_dataset))\n"
   ]
  },
  {
   "cell_type": "markdown",
   "metadata": {
    "collapsed": true
   },
   "source": [
    "# Finding out the most popular apps\n",
    "\n",
    "As we mentioned in the introduction, our aim is to determine the kinds of apps that are likely to attract more users because our revenue is highly influenced by the number of people using our apps.\n",
    "\n",
    "Because our end goal is to add the app on both Google Play and the App Store, we need to find app profiles that are successful on both markets. For instance, a profile that works well for both markets might be a productivity app that makes use of gamification.\n",
    "\n",
    "Let's begin the analysis by getting a sense of what are the most common genres for each market. For this, we'll need to build frequency tables for a few columns in our data sets."
   ]
  },
  {
   "cell_type": "code",
   "execution_count": 18,
   "metadata": {
    "collapsed": false,
    "scrolled": true
   },
   "outputs": [
    {
     "name": "stdout",
     "output_type": "stream",
     "text": [
      "['id', 'track_name', 'size_bytes', 'currency', 'price', 'rating_count_tot', 'rating_count_ver', 'user_rating', 'user_rating_ver', 'ver', 'cont_rating', 'prime_genre', 'sup_devices.num', 'ipadSc_urls.num', 'lang.num', 'vpp_lic']\n",
      "['App', 'Category', 'Rating', 'Reviews', 'Size', 'Installs', 'Type', 'Price', 'Content Rating', 'Genres', 'Last Updated', 'Current Ver', 'Android Ver']\n"
     ]
    }
   ],
   "source": [
    "print(free_Eng_AS_dataset[0])\n",
    "print(free_Eng_GP_dataset[0])"
   ]
  },
  {
   "cell_type": "code",
   "execution_count": 19,
   "metadata": {
    "collapsed": false
   },
   "outputs": [
    {
     "name": "stdout",
     "output_type": "stream",
     "text": [
      "{'Weather': 31, 'Travel': 56, 'News': 58, 'Reference': 20, 'Catalogs': 9, 'Medical': 8, 'Entertainment': 334, 'Health & Fitness': 76, 'Games': 2257, 'Sports': 79, 'Finance': 84, 'Productivity': 62, 'Education': 132, 'Business': 20, 'Music': 67, 'Lifestyle': 94, 'Shopping': 121, 'Book': 66, 'Utilities': 109, 'Photo & Video': 167, 'Social Networking': 143, 'Food & Drink': 43, 'Navigation': 20}\n",
      "{'Weather': 71, 'Arcade': 164, 'Role Playing;Pretend Play': 4, 'Education': 474, 'Sports;Action & Adventure': 2, 'Art & Design;Creativity': 6, 'Photography': 261, 'Parenting;Brain Games': 1, 'Educational;Education': 35, 'Music & Audio;Music & Video': 1, 'Racing;Pretend Play': 1, 'Travel & Local': 206, 'Sports': 307, 'Health & Fitness;Education': 1, 'Entertainment;Education': 1, 'Productivity': 345, 'Entertainment;Creativity': 3, 'Books & Reference;Education': 1, 'Racing': 88, 'Board;Brain Games': 7, 'Education;Brain Games': 3, 'Personalization': 294, 'Adventure': 60, 'Racing;Action & Adventure': 15, 'Board': 34, 'Strategy;Creativity': 1, 'Educational;Brain Games': 6, 'Communication;Creativity': 1, 'News & Magazines': 248, 'Beauty': 53, 'Comics': 54, 'Casino': 38, 'Puzzle': 100, 'Business': 407, 'Casual;Pretend Play': 21, 'Trivia': 37, 'Strategy': 81, 'Puzzle;Action & Adventure': 3, 'Educational': 33, 'Parenting': 44, 'Education;Action & Adventure': 3, 'Health & Fitness;Action & Adventure': 1, 'Entertainment;Pretend Play': 2, 'Lifestyle;Pretend Play': 1, 'Music': 18, 'Tools': 749, 'Casual': 156, 'Casual;Action & Adventure': 12, 'Simulation;Action & Adventure': 7, 'Art & Design;Action & Adventure': 1, 'Dating': 165, 'Video Players & Editors': 157, 'Simulation;Education': 1, 'Role Playing;Brain Games': 1, 'Action;Action & Adventure': 9, 'Tools;Education': 1, 'Art & Design;Pretend Play': 1, 'Action': 275, 'Educational;Action & Adventure': 3, 'Education;Creativity': 4, 'Casual;Music & Video': 1, 'Educational;Creativity': 3, 'Adventure;Action & Adventure': 3, 'Education;Education': 30, 'Card': 40, 'Books & Reference': 190, 'Finance': 328, 'Entertainment;Brain Games': 7, 'Board;Action & Adventure': 2, 'Puzzle;Education': 1, 'Travel & Local;Action & Adventure': 1, 'Role Playing': 83, 'Role Playing;Action & Adventure': 3, 'Entertainment': 538, 'Maps & Navigation': 124, 'Card;Action & Adventure': 1, 'Education;Music & Video': 3, 'Arcade;Pretend Play': 1, 'Communication': 287, 'Entertainment;Music & Video': 15, 'Trivia;Education': 1, 'Casual;Education': 2, 'Simulation;Pretend Play': 2, 'Comics;Creativity': 1, 'Strategy;Action & Adventure': 1, 'Simulation': 181, 'Events': 63, 'Medical': 313, 'Educational;Pretend Play': 8, 'Health & Fitness': 273, 'Art & Design': 53, 'Video Players & Editors;Creativity': 1, 'Puzzle;Creativity': 2, 'Parenting;Music & Video': 6, 'Puzzle;Brain Games': 15, 'Education;Pretend Play': 5, 'Word': 23, 'Casual;Creativity': 6, 'Parenting;Education': 7, 'Casual;Brain Games': 12, 'House & Home': 73, 'Lifestyle': 345, 'Arcade;Action & Adventure': 11, 'Music;Music & Video': 2, 'Shopping': 199, 'Lifestyle;Education': 1, 'Strategy;Education': 1, 'Adventure;Education': 1, 'Libraries & Demo': 83, 'Video Players & Editors;Music & Video': 2, 'Entertainment;Action & Adventure': 3, 'Auto & Vehicles': 82, 'Food & Drink': 110, 'Social': 236}\n"
     ]
    }
   ],
   "source": [
    "# Create frequency tables of 'prime-genre' in App Store dataset and 'Genres'\n",
    "# in Google Play Store dataset. \n",
    " \n",
    "freeEng_AS_frequen = {}\n",
    "freeEng_GP_frequen = {}\n",
    "for row in free_Eng_AS_dataset[1:]:\n",
    "    genrename = row[11]\n",
    "    if genrename not in freeEng_AS_frequen:\n",
    "        freeEng_AS_frequen[genrename] = 1\n",
    "    else:\n",
    "        freeEng_AS_frequen[genrename] += 1\n",
    "        \n",
    "for row in free_Eng_GP_dataset[1:]:\n",
    "    genrename = row[9]\n",
    "    if genrename not in freeEng_GP_frequen:\n",
    "        freeEng_GP_frequen[genrename] = 1\n",
    "    else:\n",
    "        freeEng_GP_frequen[genrename] += 1\n",
    "        \n",
    "print(freeEng_AS_frequen)\n",
    "print(freeEng_GP_frequen)"
   ]
  },
  {
   "cell_type": "markdown",
   "metadata": {},
   "source": [
    "Let's find out the most common apps in both datasets."
   ]
  },
  {
   "cell_type": "code",
   "execution_count": 20,
   "metadata": {
    "collapsed": false
   },
   "outputs": [
    {
     "name": "stdout",
     "output_type": "stream",
     "text": [
      "The most common genres in Apple Store is:  Games  :  2257\n",
      "The most common genres in Google Play Store is:  Tools  :  749\n"
     ]
    }
   ],
   "source": [
    "freeEng_AS_frequen_rev = {}\n",
    "freeEng_GP_frequen_rev = {}\n",
    "for key, value in freeEng_AS_frequen.items():\n",
    "    freeEng_AS_frequen_rev[value] = key\n",
    "    \n",
    "for key, value in freeEng_GP_frequen.items():\n",
    "    freeEng_GP_frequen_rev[value] = key \n",
    "\n",
    "for i in sorted(freeEng_AS_frequen_rev, reverse = True):\n",
    "    print('The most common genres in Apple Store is: ', freeEng_AS_frequen_rev[i], ' : ', i)\n",
    "    break\n",
    "for i in sorted(freeEng_GP_frequen_rev, reverse = True):\n",
    "    print('The most common genres in Google Play Store is: ', freeEng_GP_frequen_rev[i], ' : ', i)\n",
    "    break\n",
    "    "
   ]
  },
  {
   "cell_type": "markdown",
   "metadata": {},
   "source": [
    "There is another way to do the same ting. Let's now create a function for generating frequency tables, and use it in combination with the display_table() function."
   ]
  },
  {
   "cell_type": "code",
   "execution_count": 21,
   "metadata": {
    "collapsed": true
   },
   "outputs": [],
   "source": [
    "def freq_table(dataset, index):\n",
    "    fre_tab = {}\n",
    "    for row in dataset:\n",
    "        name = row[index]\n",
    "        if name not in fre_tab:\n",
    "            fre_tab[name] = 1\n",
    "        else:\n",
    "            fre_tab[name] += 1\n",
    "    for key, value in fre_tab.items():\n",
    "        fre_tab[key]=round((value/len(dataset)) * 100, 2)\n",
    "    return fre_tab\n",
    "\n",
    "def display_table(dataset, index):\n",
    "    table = freq_table(dataset, index)\n",
    "    table_display = []\n",
    "    for key in table:\n",
    "        key_val_as_tuple = (table[key], key)\n",
    "        table_display.append(key_val_as_tuple)\n",
    "\n",
    "    table_sorted = sorted(table_display, reverse = True)\n",
    "    for entry in table_sorted:\n",
    "        print(entry[1], ':', entry[0])"
   ]
  },
  {
   "cell_type": "code",
   "execution_count": 22,
   "metadata": {
    "collapsed": false
   },
   "outputs": [
    {
     "name": "stdout",
     "output_type": "stream",
     "text": [
      "Games : 55.63\n",
      "Entertainment : 8.23\n",
      "Photo & Video : 4.12\n",
      "Social Networking : 3.52\n",
      "Education : 3.25\n",
      "Shopping : 2.98\n",
      "Utilities : 2.69\n",
      "Lifestyle : 2.32\n",
      "Finance : 2.07\n",
      "Sports : 1.95\n",
      "Health & Fitness : 1.87\n",
      "Music : 1.65\n",
      "Book : 1.63\n",
      "Productivity : 1.53\n",
      "News : 1.43\n",
      "Travel : 1.38\n",
      "Food & Drink : 1.06\n",
      "Weather : 0.76\n",
      "Reference : 0.49\n",
      "Navigation : 0.49\n",
      "Business : 0.49\n",
      "Catalogs : 0.22\n",
      "Medical : 0.2\n",
      "prime_genre : 0.02\n",
      "\n",
      "\n",
      "Tools : 8.45\n",
      "Entertainment : 6.07\n",
      "Education : 5.35\n",
      "Business : 4.59\n",
      "Productivity : 3.89\n",
      "Lifestyle : 3.89\n",
      "Finance : 3.7\n",
      "Medical : 3.53\n",
      "Sports : 3.46\n",
      "Personalization : 3.32\n",
      "Communication : 3.24\n",
      "Action : 3.1\n",
      "Health & Fitness : 3.08\n",
      "Photography : 2.94\n",
      "News & Magazines : 2.8\n",
      "Social : 2.66\n",
      "Travel & Local : 2.32\n",
      "Shopping : 2.24\n",
      "Books & Reference : 2.14\n",
      "Simulation : 2.04\n",
      "Dating : 1.86\n",
      "Arcade : 1.85\n",
      "Video Players & Editors : 1.77\n",
      "Casual : 1.76\n",
      "Maps & Navigation : 1.4\n",
      "Food & Drink : 1.24\n",
      "Puzzle : 1.13\n",
      "Racing : 0.99\n",
      "Role Playing : 0.94\n",
      "Libraries & Demo : 0.94\n",
      "Auto & Vehicles : 0.92\n",
      "Strategy : 0.91\n",
      "House & Home : 0.82\n",
      "Weather : 0.8\n",
      "Events : 0.71\n",
      "Adventure : 0.68\n",
      "Comics : 0.61\n",
      "Beauty : 0.6\n",
      "Art & Design : 0.6\n",
      "Parenting : 0.5\n",
      "Card : 0.45\n",
      "Casino : 0.43\n",
      "Trivia : 0.42\n",
      "Educational;Education : 0.39\n",
      "Board : 0.38\n",
      "Educational : 0.37\n",
      "Education;Education : 0.34\n",
      "Word : 0.26\n",
      "Casual;Pretend Play : 0.24\n",
      "Music : 0.2\n",
      "Racing;Action & Adventure : 0.17\n",
      "Puzzle;Brain Games : 0.17\n",
      "Entertainment;Music & Video : 0.17\n",
      "Casual;Brain Games : 0.14\n",
      "Casual;Action & Adventure : 0.14\n",
      "Arcade;Action & Adventure : 0.12\n",
      "Action;Action & Adventure : 0.1\n",
      "Educational;Pretend Play : 0.09\n",
      "Simulation;Action & Adventure : 0.08\n",
      "Parenting;Education : 0.08\n",
      "Entertainment;Brain Games : 0.08\n",
      "Board;Brain Games : 0.08\n",
      "Parenting;Music & Video : 0.07\n",
      "Educational;Brain Games : 0.07\n",
      "Casual;Creativity : 0.07\n",
      "Art & Design;Creativity : 0.07\n",
      "Education;Pretend Play : 0.06\n",
      "Role Playing;Pretend Play : 0.05\n",
      "Education;Creativity : 0.05\n",
      "Role Playing;Action & Adventure : 0.03\n",
      "Puzzle;Action & Adventure : 0.03\n",
      "Entertainment;Creativity : 0.03\n",
      "Entertainment;Action & Adventure : 0.03\n",
      "Educational;Creativity : 0.03\n",
      "Educational;Action & Adventure : 0.03\n",
      "Education;Music & Video : 0.03\n",
      "Education;Brain Games : 0.03\n",
      "Education;Action & Adventure : 0.03\n",
      "Adventure;Action & Adventure : 0.03\n",
      "Video Players & Editors;Music & Video : 0.02\n",
      "Sports;Action & Adventure : 0.02\n",
      "Simulation;Pretend Play : 0.02\n",
      "Puzzle;Creativity : 0.02\n",
      "Music;Music & Video : 0.02\n",
      "Entertainment;Pretend Play : 0.02\n",
      "Casual;Education : 0.02\n",
      "Board;Action & Adventure : 0.02\n",
      "Video Players & Editors;Creativity : 0.01\n",
      "Trivia;Education : 0.01\n",
      "Travel & Local;Action & Adventure : 0.01\n",
      "Tools;Education : 0.01\n",
      "Strategy;Education : 0.01\n",
      "Strategy;Creativity : 0.01\n",
      "Strategy;Action & Adventure : 0.01\n",
      "Simulation;Education : 0.01\n",
      "Role Playing;Brain Games : 0.01\n",
      "Racing;Pretend Play : 0.01\n",
      "Puzzle;Education : 0.01\n",
      "Parenting;Brain Games : 0.01\n",
      "Music & Audio;Music & Video : 0.01\n",
      "Lifestyle;Pretend Play : 0.01\n",
      "Lifestyle;Education : 0.01\n",
      "Health & Fitness;Education : 0.01\n",
      "Health & Fitness;Action & Adventure : 0.01\n",
      "Genres : 0.01\n",
      "Entertainment;Education : 0.01\n",
      "Communication;Creativity : 0.01\n",
      "Comics;Creativity : 0.01\n",
      "Casual;Music & Video : 0.01\n",
      "Card;Action & Adventure : 0.01\n",
      "Books & Reference;Education : 0.01\n",
      "Art & Design;Pretend Play : 0.01\n",
      "Art & Design;Action & Adventure : 0.01\n",
      "Arcade;Pretend Play : 0.01\n",
      "Adventure;Education : 0.01\n",
      "\n",
      "\n",
      "FAMILY : 18.91\n",
      "GAME : 9.72\n",
      "TOOLS : 8.46\n",
      "BUSINESS : 4.59\n",
      "LIFESTYLE : 3.9\n",
      "PRODUCTIVITY : 3.89\n",
      "FINANCE : 3.7\n",
      "MEDICAL : 3.53\n",
      "SPORTS : 3.4\n",
      "PERSONALIZATION : 3.32\n",
      "COMMUNICATION : 3.24\n",
      "HEALTH_AND_FITNESS : 3.08\n",
      "PHOTOGRAPHY : 2.94\n",
      "NEWS_AND_MAGAZINES : 2.8\n",
      "SOCIAL : 2.66\n",
      "TRAVEL_AND_LOCAL : 2.34\n",
      "SHOPPING : 2.24\n",
      "BOOKS_AND_REFERENCE : 2.14\n",
      "DATING : 1.86\n",
      "VIDEO_PLAYERS : 1.79\n",
      "MAPS_AND_NAVIGATION : 1.4\n",
      "FOOD_AND_DRINK : 1.24\n",
      "EDUCATION : 1.16\n",
      "ENTERTAINMENT : 0.96\n",
      "LIBRARIES_AND_DEMO : 0.94\n",
      "AUTO_AND_VEHICLES : 0.92\n",
      "HOUSE_AND_HOME : 0.82\n",
      "WEATHER : 0.8\n",
      "EVENTS : 0.71\n",
      "PARENTING : 0.65\n",
      "ART_AND_DESIGN : 0.64\n",
      "COMICS : 0.62\n",
      "BEAUTY : 0.6\n",
      "Category : 0.01\n"
     ]
    }
   ],
   "source": [
    "display_table(free_Eng_AS_dataset, 11)\n",
    "print('\\n')\n",
    "display_table(free_Eng_GP_dataset, 9)\n",
    "print('\\n')\n",
    "display_table(free_Eng_GP_dataset, 1)"
   ]
  },
  {
   "cell_type": "markdown",
   "metadata": {},
   "source": [
    "The frequency tables we analyzed on the previous screen showed us that the App Store is dominated by apps designed for fun, while Google Play shows a more balanced landscape of both practical and fun apps. Now, we'd like to get an idea about the kind of apps with the most users.\n",
    "\n",
    "One way to find out what genres are the most popular (have the most users) is to calculate the average number of installs for each app genre. For the Google Play data set, we can find this information in the Installs column, but this information is missing for the App Store data set. As a workaround, we'll take the total number of user ratings as a proxy, which we can find in the rating_count_tot app. We'll use a nested loop to compute the averages we mentioned above."
   ]
  },
  {
   "cell_type": "code",
   "execution_count": 23,
   "metadata": {
    "collapsed": false
   },
   "outputs": [
    {
     "name": "stdout",
     "output_type": "stream",
     "text": [
      "Reference : 67448\n",
      "Music : 56482\n",
      "Social Networking : 53078\n",
      "Weather : 47221\n",
      "Photo & Video : 27250\n",
      "Navigation : 25972\n",
      "Travel : 20216\n",
      "Food & Drink : 20179\n",
      "Sports : 20129\n",
      "Health & Fitness : 19952\n",
      "Productivity : 19054\n",
      "Games : 18925\n",
      "Shopping : 18747\n",
      "News : 15893\n",
      "Utilities : 14010\n",
      "Finance : 13522\n",
      "Entertainment : 10823\n",
      "Lifestyle : 8978\n",
      "Book : 8498\n",
      "Business : 6368\n",
      "Education : 6266\n",
      "Catalogs : 1780\n",
      "Medical : 460\n"
     ]
    }
   ],
   "source": [
    "def freq_table_number(dataset, index):\n",
    "    fre_tab = {}\n",
    "    for row in dataset:\n",
    "        name = row[index]\n",
    "        if name not in fre_tab:\n",
    "            fre_tab[name] = 1\n",
    "        else:\n",
    "            fre_tab[name] += 1\n",
    "    return fre_tab\n",
    "\n",
    "def display_table(table):\n",
    "    table_display = []\n",
    "    for key in table:\n",
    "        key_val_as_tuple = (table[key], key)\n",
    "        table_display.append(key_val_as_tuple)\n",
    "\n",
    "    table_sorted = sorted(table_display, reverse = True)\n",
    "    for entry in table_sorted:\n",
    "        print(entry[1], ':', entry[0])\n",
    "        \n",
    "frequency_table_num_AS=freq_table_number(free_Eng_AS_dataset[1:], 11)\n",
    "avgrating_table = {}\n",
    "for genre in frequency_table_num_AS:\n",
    "    total = 0\n",
    "    for row in free_Eng_AS_dataset:\n",
    "        if row[11] == genre:\n",
    "            total += int(row[5])\n",
    "    avgrating_table[genre] = round(total/frequency_table_num_AS[genre])\n",
    "    \n",
    "display_table(avgrating_table)"
   ]
  },
  {
   "cell_type": "markdown",
   "metadata": {},
   "source": [
    "Based on the result, apps for 'Reference' are most popular in App Store. Let's look at some examples."
   ]
  },
  {
   "cell_type": "code",
   "execution_count": 24,
   "metadata": {
    "collapsed": false
   },
   "outputs": [
    {
     "name": "stdout",
     "output_type": "stream",
     "text": [
      "['282935706', 'Bible', '92774400', 'USD', '0.0', '985920', '5320', '4.5', '5.0', '7.5.1', '4+', 'Reference', '37', '5', '45', '1']\n",
      "['308750436', 'Dictionary.com Dictionary & Thesaurus', '111275008', 'USD', '0.0', '200047', '177', '4.0', '4.0', '7.1.3', '4+', 'Reference', '37', '0', '1', '1']\n",
      "['364740856', 'Dictionary.com Dictionary & Thesaurus for iPad', '165748736', 'USD', '0.0', '54175', '10176', '4.5', '4.5', '4.0', '4+', 'Reference', '24', '5', '9', '1']\n",
      "['414706506', 'Google Translate', '65281024', 'USD', '0.0', '26786', '27', '3.5', '4.5', '5.10.0', '4+', 'Reference', '37', '5', '59', '1']\n",
      "['388389451', 'Muslim Pro: Ramadan 2017 Prayer Times, Azan, Quran', '100551680', 'USD', '0.0', '18418', '706', '4.5', '5.0', '9.2.1', '4+', 'Reference', '37', '5', '16', '1']\n",
      "['1130829481', 'New Furniture Mods - Pocket Wiki & Game Tools for Minecraft PC Edition', '52959232', 'USD', '0.0', '17588', '17588', '4.5', '4.5', '1.0', '4+', 'Reference', '38', '3', '2', '1']\n",
      "['399452287', 'Merriam-Webster Dictionary', '155593728', 'USD', '0.0', '16849', '1125', '4.5', '4.5', '4.1', '4+', 'Reference', '38', '1', '12', '1']\n",
      "['475772902', 'Night Sky', '596499456', 'USD', '0.0', '12122', '60', '4.5', '4.5', '4.4.1', '4+', 'Reference', '37', '5', '29', '1']\n",
      "['1135575003', 'City Maps for Minecraft PE - The Best Maps for Minecraft Pocket Edition (MCPE)', '90124288', 'USD', '0.0', '8535', '8535', '4.0', '4.0', '1.0', '4+', 'Reference', '37', '4', '1', '1']\n",
      "['1132715891', 'LUCKY BLOCK MOD ™ for Minecraft PC Edition - The Best Pocket Wiki & Mods Installer Tools', '86874112', 'USD', '0.0', '4693', '4693', '4.0', '4.0', '1.0', '12+', 'Reference', '37', '4', '1', '1']\n",
      "['1137683736', 'GUNS MODS for Minecraft PC Edition - Mods Tools', '85424128', 'USD', '0.0', '1497', '245', '4.0', '3.0', '1.1', '12+', 'Reference', '37', '4', '1', '1']\n"
     ]
    }
   ],
   "source": [
    "i = 0\n",
    "for row in free_Eng_AS_dataset:\n",
    "    if row[11] == 'Reference':\n",
    "        print(row)\n",
    "        i += 1\n",
    "        if i > 10:\n",
    "            break"
   ]
  },
  {
   "cell_type": "markdown",
   "metadata": {},
   "source": [
    "Now let's take a look at some examples of apps from 'Social Networking'. "
   ]
  },
  {
   "cell_type": "code",
   "execution_count": 25,
   "metadata": {
    "collapsed": false
   },
   "outputs": [
    {
     "name": "stdout",
     "output_type": "stream",
     "text": [
      "['284882215', 'Facebook', '389879808', 'USD', '0.0', '2974676', '212', '3.5', '3.5', '95.0', '4+', 'Social Networking', '37', '1', '29', '1']\n",
      "['429047995', 'Pinterest', '74778624', 'USD', '0.0', '1061624', '1814', '4.5', '4.0', '6.26', '12+', 'Social Networking', '37', '5', '27', '1']\n",
      "['304878510', 'Skype for iPhone', '133238784', 'USD', '0.0', '373519', '127', '3.5', '4.0', '6.35.1', '4+', 'Social Networking', '37', '0', '32', '1']\n",
      "['454638411', 'Messenger', '275729408', 'USD', '0.0', '351466', '892', '3.0', '3.0', '119.0', '4+', 'Social Networking', '37', '1', '33', '1']\n",
      "['305343404', 'Tumblr', '151573504', 'USD', '0.0', '334293', '919', '4.0', '4.0', '8.6', '17+', 'Social Networking', '37', '5', '16', '1']\n",
      "['310633997', 'WhatsApp Messenger', '135044096', 'USD', '0.0', '287589', '73088', '4.5', '4.5', '2.17.22', '4+', 'Social Networking', '12', '0', '35', '1']\n",
      "['357218860', 'Kik', '151864320', 'USD', '0.0', '260965', '228', '4.0', '3.0', '11.21.0', '12+', 'Social Networking', '37', '0', '14', '0']\n",
      "['428845974', 'ooVoo – Free Video Call, Text and Voice', '113510400', 'USD', '0.0', '177501', '1014', '4.5', '4.5', '3.1.6', '4+', 'Social Networking', '37', '5', '21', '1']\n",
      "['314716233', 'TextNow - Unlimited Text + Calls', '130637824', 'USD', '0.0', '164963', '69', '3.5', '4.0', '8.5.1', '4+', 'Social Networking', '37', '5', '3', '1']\n",
      "['382617920', 'Viber Messenger – Text & Call', '129657856', 'USD', '0.0', '164249', '206', '4.5', '4.5', '6.9.0', '4+', 'Social Networking', '37', '5', '32', '1']\n",
      "['552208596', 'Followers - Social Analytics For Instagram', '59160576', 'USD', '0.0', '112778', '139', '4.5', '4.5', '6.8.4', '4+', 'Social Networking', '37', '5', '11', '1']\n"
     ]
    }
   ],
   "source": [
    "i = 0\n",
    "for row in free_Eng_AS_dataset:\n",
    "    if row[11] == 'Social Networking':\n",
    "        print(row)\n",
    "        i += 1\n",
    "        if i > 10:\n",
    "            break"
   ]
  },
  {
   "cell_type": "markdown",
   "metadata": {},
   "source": [
    "Now let's calculate the average number of installs per app genre for the Google Play data set. We'll need to use a nested loop. The install numbers don't seem precise enough — we can see that most values are open-ended (100+, 1,000+, 5,000+, etc.). For instance, we don't know whether an app with 100,000+ installs has 100,000 installs, 200,000, or 350,000. However, we don't need very precise data for our purposes — we only want to find out which app genres attract the most users, and we don't need perfect precision with respect to the number of users.\n",
    "\n",
    "We're going to leave the numbers as they are, which means that we'll consider that an app with 100,000+ installs has 100,000 installs, and an app with 1,000,000+ installs has 1,000,000 installs, and so on. To perform computations, however, we'll need to convert each install number from string to float. This means we need to remove the commas and the plus characters, otherwise the conversion will fail and raise an error."
   ]
  },
  {
   "cell_type": "code",
   "execution_count": 26,
   "metadata": {
    "collapsed": false
   },
   "outputs": [
    {
     "name": "stdout",
     "output_type": "stream",
     "text": [
      "Communication : 38456119.17\n",
      "Adventure;Action & Adventure : 35333333.33\n",
      "Video Players & Editors : 24947335.8\n",
      "Social : 23253652.13\n",
      "Arcade : 22888365.49\n",
      "Casual : 19569221.6\n",
      "Puzzle;Action & Adventure : 18366666.67\n",
      "Photography : 17840110.4\n",
      "Educational;Action & Adventure : 17016666.67\n",
      "Productivity : 16787331.34\n",
      "Racing : 15910645.68\n",
      "Travel & Local : 14051476.15\n",
      "Casual;Action & Adventure : 12916666.67\n",
      "Action : 12603588.87\n",
      "Strategy : 11199902.53\n",
      "Tools : 10802461.25\n",
      "Tools;Education : 10000000.0\n",
      "Role Playing;Brain Games : 10000000.0\n",
      "Lifestyle;Pretend Play : 10000000.0\n",
      "Casual;Music & Video : 10000000.0\n",
      "Card;Action & Adventure : 10000000.0\n",
      "Adventure;Education : 10000000.0\n",
      "News & Magazines : 9549178.47\n",
      "Music : 9445583.33\n",
      "Educational;Pretend Play : 9375000.0\n",
      "Puzzle;Brain Games : 9280666.67\n",
      "Word : 9094458.7\n",
      "Racing;Action & Adventure : 8816666.67\n",
      "Books & Reference : 8767811.89\n",
      "Puzzle : 8302861.91\n",
      "Video Players & Editors;Music & Video : 7500000.0\n",
      "Shopping : 7036877.31\n",
      "Role Playing;Action & Adventure : 7000000.0\n",
      "Casual;Pretend Play : 6957142.86\n",
      "Entertainment;Music & Video : 6413333.33\n",
      "Action;Action & Adventure : 5888888.89\n",
      "Entertainment : 5602792.78\n",
      "Education;Brain Games : 5333333.33\n",
      "Casual;Creativity : 5333333.33\n",
      "Role Playing;Pretend Play : 5275000.0\n",
      "Personalization : 5201482.61\n",
      "Weather : 5074486.2\n",
      "Sports;Action & Adventure : 5050000.0\n",
      "Music;Music & Video : 5050000.0\n",
      "Video Players & Editors;Creativity : 5000000.0\n",
      "Adventure : 4922785.33\n",
      "Simulation;Action & Adventure : 4857142.86\n",
      "Education;Education : 4759517.0\n",
      "Board : 4759209.12\n",
      "Sports : 4596842.62\n",
      "Educational;Brain Games : 4433333.33\n",
      "Health & Fitness : 4188821.99\n",
      "Maps & Navigation : 4056941.77\n",
      "Entertainment;Creativity : 4000000.0\n",
      "Role Playing : 3965645.42\n",
      "Card : 3815462.5\n",
      "Trivia : 3475712.7\n",
      "Simulation : 3475484.09\n",
      "Casino : 3427910.53\n",
      "Entertainment;Brain Games : 3314285.71\n",
      "Arcade;Action & Adventure : 3190909.18\n",
      "Entertainment;Pretend Play : 3000000.0\n",
      "Board;Action & Adventure : 3000000.0\n",
      "Education;Creativity : 2875000.0\n",
      "Entertainment;Action & Adventure : 2333333.33\n",
      "Educational;Creativity : 2333333.33\n",
      "Art & Design : 2122850.94\n",
      "Education;Music & Video : 2033333.33\n",
      "Food & Drink : 1924897.74\n",
      "Education;Pretend Play : 1800000.0\n",
      "Educational;Education : 1737143.14\n",
      "Business : 1712290.15\n",
      "Casual;Brain Games : 1425916.67\n",
      "Lifestyle : 1412998.34\n",
      "Finance : 1387692.48\n",
      "House & Home : 1331540.56\n",
      "Parenting;Music & Video : 1118333.33\n",
      "Strategy;Creativity : 1000000.0\n",
      "Strategy;Action & Adventure : 1000000.0\n",
      "Racing;Pretend Play : 1000000.0\n",
      "Parenting;Brain Games : 1000000.0\n",
      "Health & Fitness;Action & Adventure : 1000000.0\n",
      "Entertainment;Education : 1000000.0\n",
      "Education;Action & Adventure : 1000000.0\n",
      "Casual;Education : 1000000.0\n",
      "Arcade;Pretend Play : 1000000.0\n",
      "Dating : 854028.83\n",
      "Comics : 831873.15\n",
      "Puzzle;Creativity : 750000.0\n",
      "Auto & Vehicles : 647317.82\n",
      "Libraries & Demo : 638503.73\n",
      "Education : 550185.44\n",
      "Simulation;Pretend Play : 550000.0\n",
      "Beauty : 513151.89\n",
      "Strategy;Education : 500000.0\n",
      "Music & Audio;Music & Video : 500000.0\n",
      "Communication;Creativity : 500000.0\n",
      "Art & Design;Pretend Play : 500000.0\n",
      "Parenting : 467977.5\n",
      "Parenting;Education : 452857.14\n",
      "Educational : 411184.85\n",
      "Board;Brain Games : 407142.86\n",
      "Art & Design;Creativity : 285000.0\n",
      "Events : 253542.22\n",
      "Medical : 120550.62\n",
      "Travel & Local;Action & Adventure : 100000.0\n",
      "Puzzle;Education : 100000.0\n",
      "Lifestyle;Education : 100000.0\n",
      "Health & Fitness;Education : 100000.0\n",
      "Art & Design;Action & Adventure : 100000.0\n",
      "Comics;Creativity : 50000.0\n",
      "Books & Reference;Education : 1000.0\n",
      "Simulation;Education : 500.0\n",
      "Trivia;Education : 100.0\n"
     ]
    }
   ],
   "source": [
    "frequency_table_num_GP=freq_table_number(free_Eng_GP_dataset[1:], 9)\n",
    "avgrating_table_GP = {}\n",
    "for genre in frequency_table_num_GP:\n",
    "    total = 0\n",
    "    for row in free_Eng_GP_dataset:\n",
    "        if row[9] == genre:\n",
    "            instals = row[5]\n",
    "            instals = instals.replace('+', '')\n",
    "            instals = instals.replace(',', '')\n",
    "            total += int(instals)\n",
    "    avgrating_table_GP[genre] = round(total/frequency_table_num_GP[genre],2)\n",
    "\n",
    "display_table(avgrating_table_GP)"
   ]
  },
  {
   "cell_type": "markdown",
   "metadata": {},
   "source": [
    "Based on the result, apps for 'Communication' are most popular in Google Play Store. Let's look at some examples."
   ]
  },
  {
   "cell_type": "code",
   "execution_count": 27,
   "metadata": {
    "collapsed": false
   },
   "outputs": [
    {
     "name": "stdout",
     "output_type": "stream",
     "text": [
      "['WhatsApp Messenger', 'COMMUNICATION', '4.4', '69119316', 'Varies with device', '1,000,000,000+', 'Free', '0', 'Everyone', 'Communication', 'August 3, 2018', 'Varies with device', 'Varies with device']\n",
      "['Messenger for SMS', 'COMMUNICATION', '4.3', '125257', '17M', '10,000,000+', 'Free', '0', 'Teen', 'Communication', 'June 6, 2018', '1.8.9', '4.1 and up']\n",
      "['My Tele2', 'COMMUNICATION', '4.3', '158679', '8.8M', '5,000,000+', 'Free', '0', 'Everyone', 'Communication', 'August 3, 2018', '2.4.1', '4.4 and up']\n",
      "['imo beta free calls and text', 'COMMUNICATION', '4.3', '659395', '11M', '100,000,000+', 'Free', '0', 'Everyone', 'Communication', 'June 7, 2018', '9.8.000000010492', '4.0 and up']\n",
      "['Contacts', 'COMMUNICATION', '4.3', '66602', 'Varies with device', '50,000,000+', 'Free', '0', 'Everyone', 'Communication', 'June 26, 2018', '2.8.4.201036949', '5.0 and up']\n",
      "['Call Free – Free Call', 'COMMUNICATION', '4.3', '30209', '15M', '5,000,000+', 'Free', '0', 'Everyone', 'Communication', 'July 28, 2018', '1.3.4', '4.1 and up']\n",
      "['Web Browser & Explorer', 'COMMUNICATION', '4.0', '36901', '6.6M', '5,000,000+', 'Free', '0', 'Everyone', 'Communication', 'July 4, 2018', '11.8.6', '4.0.3 - 7.1.1']\n",
      "['Browser 4G', 'COMMUNICATION', '4.3', '192948', '6.6M', '10,000,000+', 'Free', '0', 'Everyone', 'Communication', 'June 19, 2018', '24.6.6', '4.0.3 - 7.1.1']\n",
      "['MegaFon Dashboard', 'COMMUNICATION', '3.7', '99559', 'Varies with device', '10,000,000+', 'Free', '0', 'Everyone', 'Communication', 'July 30, 2018', 'Varies with device', 'Varies with device']\n",
      "['ZenUI Dialer & Contacts', 'COMMUNICATION', '4.5', '437674', 'Varies with device', '10,000,000+', 'Free', '0', 'Everyone', 'Communication', 'August 1, 2018', 'Varies with device', 'Varies with device']\n",
      "['Cricket Visual Voicemail', 'COMMUNICATION', '3.9', '13698', '5.1M', '10,000,000+', 'Free', '0', 'Everyone', 'Communication', 'July 2, 2018', '3.2.0.100171', '4.1 and up']\n"
     ]
    }
   ],
   "source": [
    "i = 0\n",
    "for row in free_Eng_GP_dataset:\n",
    "    if row[9] == 'Communication':\n",
    "        print(row)\n",
    "        i += 1\n",
    "        if i > 10:\n",
    "            break"
   ]
  },
  {
   "cell_type": "markdown",
   "metadata": {},
   "source": [
    "It came up that apps for social communication are the most popular. We can try to launch new social app that is more user-friendly."
   ]
  },
  {
   "cell_type": "markdown",
   "metadata": {},
   "source": [
    "# Conclusions\n",
    "\n",
    "In this project, we analyzed data about the App Store and Google Play Store apps with the goal of recommending an app profile that can be profitable for both markets. \n",
    "\n",
    "It turns out that social networking and communication apps are most common among the users. We can try to launch our new social app that is more user-friendly, liking being able to share larger vedio, to attract more users."
   ]
  }
 ],
 "metadata": {
  "kernelspec": {
   "display_name": "Python 3",
   "language": "python",
   "name": "python3"
  },
  "language_info": {
   "codemirror_mode": {
    "name": "ipython",
    "version": 3
   },
   "file_extension": ".py",
   "mimetype": "text/x-python",
   "name": "python",
   "nbconvert_exporter": "python",
   "pygments_lexer": "ipython3",
   "version": "3.4.3"
  }
 },
 "nbformat": 4,
 "nbformat_minor": 2
}
